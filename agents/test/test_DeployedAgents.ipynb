{
 "cells": [
  {
   "metadata": {},
   "cell_type": "markdown",
   "source": [
    "# Summary\n",
    "\n",
    "Notebook to test deployed agents."
   ],
   "id": "a4e0912f5e423d81"
  },
  {
   "metadata": {},
   "cell_type": "markdown",
   "source": "## Import libraries",
   "id": "c02e049095a941"
  },
  {
   "cell_type": "code",
   "id": "initial_id",
   "metadata": {
    "collapsed": true,
    "ExecuteTime": {
     "end_time": "2025-08-12T23:42:07.971819Z",
     "start_time": "2025-08-12T23:42:07.965448Z"
    }
   },
   "source": [
    "import os, sys\n",
    "\n",
    "\n",
    "import vertexai\n",
    "from vertexai import agent_engines\n",
    "\n",
    "# Set environment variables\n",
    "utils_path = \".../../interface/utils\"\n",
    "sys.path.insert(0, utils_path)\n",
    "from authentication import ApiAuthentication\n",
    "api_configs = ApiAuthentication(client=\"CCC\")\n",
    "\n",
    "# import json_tools as jt\n",
    "\n",
    "# Initialize Vertex AI API once per session\n",
    "vertexai.init(project=os.environ[\"GOOGLE_CLOUD_PROJECT\"],\n",
    "              location=os.environ[\"GOOGLE_CLOUD_LOCATION\"],\n",
    "              staging_bucket=os.environ[\"STAGING_BUCKET\"])\n"
   ],
   "outputs": [],
   "execution_count": 20
  },
  {
   "metadata": {},
   "cell_type": "markdown",
   "source": "# Test the RAG Vertex AI search agent\n",
   "id": "a7c15d3d7269e98"
  },
  {
   "metadata": {
    "ExecuteTime": {
     "end_time": "2025-08-12T23:43:58.921883Z",
     "start_time": "2025-08-12T23:43:51.104840Z"
    }
   },
   "cell_type": "code",
   "source": [
    "# The deployed agent's resource ID\n",
    "resource_name = \"projects/1062597788108/locations/us-central1/reasoningEngines/5642016374583721984\"\n",
    "\n",
    "# Retrieve agent\n",
    "agent_engine = agent_engines.get(resource_name)\n",
    "\n",
    "# Establish session\n",
    "user_id = \"User_456\"\n",
    "session = agent_engine.create_session(user_id=user_id)\n",
    "\n",
    "# Get agent response\n",
    "query = \"What are the responsibilities of california community college board trustees\"\n",
    "result = agent_engine.stream_query(message=query,\n",
    "                                   session_id=session[\"id\"],\n",
    "                                   user_id=user_id)\n",
    "\n",
    "# Put results into a dictionary for later access\n",
    "events = []\n",
    "for event in result:\n",
    "    events.append(event)\n"
   ],
   "id": "4540f90cc9ec0a2c",
   "outputs": [],
   "execution_count": 21
  },
  {
   "metadata": {
    "ExecuteTime": {
     "end_time": "2025-08-12T23:45:25.934126Z",
     "start_time": "2025-08-12T23:45:25.932144Z"
    }
   },
   "cell_type": "code",
   "source": [
    "# Print events\n",
    "for event in events:\n",
    "    if type(event) == dict:\n",
    "        print(event.keys())\n",
    "    else:\n",
    "        print(str(event))\n",
    "    # print(event)\n",
    "    print(\"-----------------\")"
   ],
   "id": "eac4fa720dbbb271",
   "outputs": [
    {
     "name": "stdout",
     "output_type": "stream",
     "text": [
      "dict_keys(['content', 'grounding_metadata', 'usage_metadata', 'invocation_id', 'author', 'actions', 'id', 'timestamp'])\n",
      "-----------------\n"
     ]
    }
   ],
   "execution_count": 27
  },
  {
   "metadata": {},
   "cell_type": "code",
   "outputs": [],
   "execution_count": null,
   "source": "",
   "id": "ad792b5e8c59ad6a"
  }
 ],
 "metadata": {
  "kernelspec": {
   "display_name": "Python 3",
   "language": "python",
   "name": "python3"
  },
  "language_info": {
   "codemirror_mode": {
    "name": "ipython",
    "version": 2
   },
   "file_extension": ".py",
   "mimetype": "text/x-python",
   "name": "python",
   "nbconvert_exporter": "python",
   "pygments_lexer": "ipython2",
   "version": "2.7.6"
  }
 },
 "nbformat": 4,
 "nbformat_minor": 5
}
