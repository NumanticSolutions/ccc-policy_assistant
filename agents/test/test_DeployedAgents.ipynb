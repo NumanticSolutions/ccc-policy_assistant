{
 "cells": [
  {
   "metadata": {},
   "cell_type": "markdown",
   "source": [
    "# Summary\n",
    "\n",
    "Notebook to test deployed agents."
   ],
   "id": "a4e0912f5e423d81"
  },
  {
   "metadata": {},
   "cell_type": "markdown",
   "source": "## Import libraries",
   "id": "c02e049095a941"
  },
  {
   "cell_type": "code",
   "id": "initial_id",
   "metadata": {
    "collapsed": true,
    "ExecuteTime": {
     "end_time": "2025-08-15T15:24:44.670376Z",
     "start_time": "2025-08-15T15:24:42.175933Z"
    }
   },
   "source": [
    "import os, sys\n",
    "\n",
    "\n",
    "import vertexai\n",
    "from vertexai import agent_engines\n",
    "\n",
    "# Set environment variables\n",
    "utils_path = \"../../interface/utils\"\n",
    "sys.path.insert(0, utils_path)\n",
    "from authentication import ApiAuthentication\n",
    "api_configs = ApiAuthentication(client=\"CCC\")\n",
    "\n",
    "# import json_tools as jt\n",
    "\n",
    "# Initialize Vertex AI API once per session\n",
    "vertexai.init(project=os.environ[\"GOOGLE_CLOUD_PROJECT\"],\n",
    "              location=os.environ[\"GOOGLE_CLOUD_LOCATION\"],\n",
    "              staging_bucket=os.environ[\"STAGING_BUCKET\"])\n"
   ],
   "outputs": [],
   "execution_count": 1
  },
  {
   "metadata": {},
   "cell_type": "markdown",
   "source": "# Test the RAG Vertex AI search agent\n",
   "id": "a7c15d3d7269e98"
  },
  {
   "metadata": {
    "ExecuteTime": {
     "end_time": "2025-08-15T15:25:24.429397Z",
     "start_time": "2025-08-15T15:25:15.434117Z"
    }
   },
   "cell_type": "code",
   "source": [
    "# The deployed agent's resource ID\n",
    "resource_name = \"projects/1062597788108/locations/us-central1/reasoningEngines/1669278553289523200\"\n",
    "\n",
    "# Retrieve agent\n",
    "agent_engine = agent_engines.get(resource_name)\n",
    "\n",
    "# Establish session\n",
    "user_id = \"User_456\"\n",
    "session = agent_engine.create_session(user_id=user_id)\n",
    "\n",
    "# Get agent response\n",
    "query = \"What are the responsibilities of california community college board trustees\"\n",
    "query = \"Which California community college has the lowest out-of-state required fees for full-time undergraduates?\"\n",
    "result = agent_engine.stream_query(message=query,\n",
    "                                   session_id=session[\"id\"],\n",
    "                                   user_id=user_id)\n",
    "\n",
    "# Put results into a dictionary for later access\n",
    "events = []\n",
    "for event in result:\n",
    "    events.append(event)\n"
   ],
   "id": "4540f90cc9ec0a2c",
   "outputs": [],
   "execution_count": 2
  },
  {
   "metadata": {
    "ExecuteTime": {
     "end_time": "2025-08-15T15:25:32.033089Z",
     "start_time": "2025-08-15T15:25:32.030396Z"
    }
   },
   "cell_type": "code",
   "source": [
    "# Print events\n",
    "for event in events:\n",
    "    if type(event) == dict:\n",
    "        print(event)\n",
    "        print(event.keys())\n",
    "    else:\n",
    "        print(str(event))\n",
    "    # print(event)\n",
    "    print(\"-----------------\")"
   ],
   "id": "eac4fa720dbbb271",
   "outputs": [
    {
     "name": "stdout",
     "output_type": "stream",
     "text": [
      "{'content': {'parts': [{'text': '```json\\n{\\n \"relevant_data_yes_or_no\": true,\\n \"description_of_relevant_data\": \"Yes, the IPEDS datasets likely contain relevant data regarding out-of-state required fees for full-time undergraduates at California community colleges. IPEDS collects detailed information on tuition and fees, typically differentiating between in-state and out-of-state rates for various enrollment statuses (e.g., full-time, part-time) and levels (e.g., undergraduate, graduate). This data is reported at the institutional level, meaning individual California community colleges would have their specific fees listed.\",\\n \"relevant_table_names\": [\\n  \"Institutional Characteristics (IC)\",\\n  \"Student Financial Aid and Net Price (SFA)\",\\n  \"Tuition and Fees (TFC)\"\\n ]\\n}\\n```'}], 'role': 'model'}, 'grounding_metadata': {}, 'usage_metadata': {'candidates_token_count': 175, 'candidates_tokens_details': [{'modality': 'TEXT', 'token_count': 175}], 'prompt_token_count': 329, 'prompt_tokens_details': [{'modality': 'TEXT', 'token_count': 329}], 'thoughts_token_count': 503, 'total_token_count': 1007, 'traffic_type': 'ON_DEMAND'}, 'invocation_id': 'e-ba9bed88-f9bd-413b-8783-f793af0b1253', 'author': 'ipeds_rag_search_app', 'actions': {'state_delta': {}, 'artifact_delta': {}, 'requested_auth_configs': {}}, 'id': '3997db11-08cf-4430-99a3-11665fb6a0de', 'timestamp': 1755271519.494369}\n",
      "dict_keys(['content', 'grounding_metadata', 'usage_metadata', 'invocation_id', 'author', 'actions', 'id', 'timestamp'])\n",
      "-----------------\n"
     ]
    }
   ],
   "execution_count": 4
  },
  {
   "metadata": {},
   "cell_type": "code",
   "outputs": [],
   "execution_count": null,
   "source": "",
   "id": "ad792b5e8c59ad6a"
  }
 ],
 "metadata": {
  "kernelspec": {
   "display_name": "Python 3",
   "language": "python",
   "name": "python3"
  },
  "language_info": {
   "codemirror_mode": {
    "name": "ipython",
    "version": 2
   },
   "file_extension": ".py",
   "mimetype": "text/x-python",
   "name": "python",
   "nbconvert_exporter": "python",
   "pygments_lexer": "ipython2",
   "version": "2.7.6"
  }
 },
 "nbformat": 4,
 "nbformat_minor": 5
}
