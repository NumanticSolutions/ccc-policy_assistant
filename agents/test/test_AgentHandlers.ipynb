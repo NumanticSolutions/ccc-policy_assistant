{
 "cells": [
  {
   "metadata": {},
   "cell_type": "markdown",
   "source": [
    "# Summary\n",
    "\n",
    "Test the deployed agent handlers"
   ],
   "id": "cbe64b5c71e3e3dc"
  },
  {
   "metadata": {},
   "cell_type": "markdown",
   "source": "## Import libraries",
   "id": "3ec88e3d25eb1798"
  },
  {
   "cell_type": "code",
   "id": "initial_id",
   "metadata": {
    "collapsed": true,
    "ExecuteTime": {
     "end_time": "2025-08-15T20:22:58.113677Z",
     "start_time": "2025-08-15T20:22:54.882Z"
    }
   },
   "source": [
    "import os, sys\n",
    "import json\n",
    "\n",
    "# Set environment variables\n",
    "utils_path = \"../../interface/utils\"\n",
    "sys.path.insert(0, utils_path)\n",
    "from authentication import ApiAuthentication\n",
    "api_configs = ApiAuthentication(client=\"CCC\")\n",
    "\n",
    "import json_tools as jt\n",
    "\n",
    "handlers_path = \"../../interface/agent_handlers\"\n",
    "sys.path.insert(0, handlers_path)\n",
    "from ccc_subagent_parser import getSubAgentResults\n",
    "from ccc_datascience_agent import cccDataScienceBot\n",
    "\n"
   ],
   "outputs": [],
   "execution_count": 1
  },
  {
   "metadata": {},
   "cell_type": "markdown",
   "source": "## Test ipeds_rag agent",
   "id": "951786a4581c8e42"
  },
  {
   "metadata": {
    "ExecuteTime": {
     "end_time": "2025-08-15T17:21:19.305954Z",
     "start_time": "2025-08-15T17:21:08.838660Z"
    }
   },
   "cell_type": "code",
   "source": [
    "rag_agent=\"rag_ipeds\"\n",
    "query=\"Which California community college has the highest part-time undergraduate enrollment?\"\n",
    "# query=\"Which California community college awarded the most number of bachelor's degrees?\"\n",
    "user_id=\"u12345\"\n",
    "ds_agent = getSubAgentResults(rag_agent=rag_agent,\n",
    "                              query=query,\n",
    "                              user_id=user_id)\n"
   ],
   "id": "78a9e9d612b11309",
   "outputs": [],
   "execution_count": 2
  },
  {
   "metadata": {
    "ExecuteTime": {
     "end_time": "2025-08-15T17:21:30.754017Z",
     "start_time": "2025-08-15T17:21:30.751629Z"
    }
   },
   "cell_type": "code",
   "source": [
    "dir(ds_agent)\n",
    "ds_agent.contents[0]\n",
    "\n",
    "# ds_agent.result\n",
    "\n",
    "# ds_agent.events\n",
    "# ds_agent.transcripts\n",
    "\n",
    "# ds_agent.resource_name"
   ],
   "id": "7162f4866ffb99d6",
   "outputs": [
    {
     "data": {
      "text/plain": [
       "'{\"relevant_data_yes_or_no\": true, \"description_of_relevant_data\": \"Yes, the IPEDS datasets contain relevant data for this query. The IPEDS Fall Enrollment (EF) survey component collects detailed enrollment data, including part-time undergraduate enrollment, at the institutional level. This data can be filtered by state (California) and institutional sector (e.g., Public, 2-year for community colleges) to identify the specific institutions and their enrollment numbers, allowing for a comparison to determine which California community college has the highest part-time undergraduate enrollment.\", \"relevant_table_names\": [\"Fall Enrollment (EF) survey component tables\"]}'"
      ]
     },
     "execution_count": 4,
     "metadata": {},
     "output_type": "execute_result"
    }
   ],
   "execution_count": 4
  },
  {
   "metadata": {},
   "cell_type": "markdown",
   "source": "## Test vai_rag agent",
   "id": "b83d84ac2cd73375"
  },
  {
   "metadata": {},
   "cell_type": "code",
   "source": [
    "rag_agent=\"rag_webtext\"\n",
    "query=\"Which are the responsibilities of california community college board members\"\n",
    "user_id=\"u12345\"\n",
    "va_agent = getSubAgentResults(rag_agent=rag_agent,\n",
    "                             query=query,\n",
    "                             user_id=user_id)\n"
   ],
   "id": "a1059e92ff877071",
   "outputs": [],
   "execution_count": null
  },
  {
   "metadata": {},
   "cell_type": "code",
   "source": [
    "va_agent.contents\n",
    "va_agent.events\n"
   ],
   "id": "9ae72d2e4919861c",
   "outputs": [],
   "execution_count": null
  },
  {
   "metadata": {},
   "cell_type": "markdown",
   "source": "## Test datascience agent",
   "id": "bb9f43724c092b82"
  },
  {
   "metadata": {
    "ExecuteTime": {
     "end_time": "2025-08-15T20:23:11.203231Z",
     "start_time": "2025-08-15T20:23:05.714023Z"
    }
   },
   "cell_type": "code",
   "source": [
    "query=\"Which California community college has the highest part-time undergraduate enrollment?\"\n",
    "query=\"What are some important policy issues facing California community colleges?\"\n",
    "user_id=\"u12345\"\n",
    "\n",
    "ds_chatbot = cccDataScienceBot(user_id=user_id)\n",
    "ds_chatbot.search_ipeds_metadata(query=query)\n",
    "# ds_chatbot.synthesize_ipeds_metadata_search(query=query,\n",
    "#                                             context=)\n",
    "# ds_chatbot.report_dict\n",
    "\n"
   ],
   "id": "1bc9e8017395b8e2",
   "outputs": [],
   "execution_count": 2
  },
  {
   "metadata": {
    "ExecuteTime": {
     "end_time": "2025-08-15T20:36:30.958004Z",
     "start_time": "2025-08-15T20:36:30.956038Z"
    }
   },
   "cell_type": "code",
   "source": [
    "dir(ds_chatbot)\n",
    "\n",
    "(ds_chatbot.report_dict)\n",
    "\n",
    "\n",
    "# ds_chatbot.ipeds_result\n"
   ],
   "id": "e24874b84c1aae4",
   "outputs": [
    {
     "data": {
      "text/plain": [
       "dict"
      ]
     },
     "execution_count": 9,
     "metadata": {},
     "output_type": "execute_result"
    }
   ],
   "execution_count": 9
  },
  {
   "metadata": {
    "ExecuteTime": {
     "end_time": "2025-08-15T17:31:10.656424Z",
     "start_time": "2025-08-15T17:31:10.653151Z"
    }
   },
   "cell_type": "code",
   "source": [
    "if type(ds_chatbot.report_dict[\"relevant_table_names\"]) == list \\\n",
    "        and len(ds_chatbot.report_dict[\"relevant_table_names\"]) > 0:\n",
    "    tables_list = \", \".join(ds_chatbot.report_dict[\"relevant_table_names\"])\n",
    "\n",
    "elif type(ds_chatbot.report_dict[\"relevant_table_names\"]) == str \\\n",
    "        and len(ds_chatbot.report_dict[\"relevant_table_names\"]) > 0:\n",
    "    tables_list = \", \".join"
   ],
   "id": "cd79f07aea82a3ae",
   "outputs": [],
   "execution_count": 9
  },
  {
   "metadata": {
    "ExecuteTime": {
     "end_time": "2025-08-15T17:31:11.056428Z",
     "start_time": "2025-08-15T17:31:11.053781Z"
    }
   },
   "cell_type": "code",
   "source": "tables_list",
   "id": "b2f5bb723a6dea3f",
   "outputs": [
    {
     "data": {
      "text/plain": [
       "'Enrollment Fall (EF), Institutional Characteristics (IC)'"
      ]
     },
     "execution_count": 10,
     "metadata": {},
     "output_type": "execute_result"
    }
   ],
   "execution_count": 10
  },
  {
   "metadata": {},
   "cell_type": "code",
   "outputs": [],
   "execution_count": null,
   "source": "",
   "id": "ea6c8d525e5a66cb"
  }
 ],
 "metadata": {
  "kernelspec": {
   "display_name": "Python 3",
   "language": "python",
   "name": "python3"
  },
  "language_info": {
   "codemirror_mode": {
    "name": "ipython",
    "version": 2
   },
   "file_extension": ".py",
   "mimetype": "text/x-python",
   "name": "python",
   "nbconvert_exporter": "python",
   "pygments_lexer": "ipython2",
   "version": "2.7.6"
  }
 },
 "nbformat": 4,
 "nbformat_minor": 5
}
